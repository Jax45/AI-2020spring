{
  "nbformat": 4,
  "nbformat_minor": 0,
  "metadata": {
    "colab": {
      "name": "Linear_Regression_with_Two_Input_Variables.ipynb",
      "version": "0.3.2",
      "provenance": [],
      "collapsed_sections": [],
      "include_colab_link": true
    },
    "kernelspec": {
      "display_name": "Python 3",
      "language": "python",
      "name": "python3"
    }
  },
  "cells": [
    {
      "cell_type": "markdown",
      "metadata": {
        "id": "view-in-github",
        "colab_type": "text"
      },
      "source": [
        "<a href=\"https://colab.research.google.com/github/badriadhikari/2019-Fall-AI/blob/master/Linear_Regression_with_Two_Input_Variables.ipynb\" target=\"_parent\"><img src=\"https://colab.research.google.com/assets/colab-badge.svg\" alt=\"Open In Colab\"/></a>"
      ]
    },
    {
      "cell_type": "markdown",
      "metadata": {
        "id": "qNkOLgfjuiEa",
        "colab_type": "text"
      },
      "source": [
        "####Linear Regression with Two Input Variables using the Iris Flower Dataset  \n",
        "* We would like to predict \"petal width\" (column 4 in the original dataset) using sepal width (column 2) and petal length (column 3)  \n",
        "* Dataset: [rawdata](https://raw.githubusercontent.com/badriadhikari/2019-Fall-AI/master/MODULE-I/iris.data) and [metadata](https://raw.githubusercontent.com/badriadhikari/2019-Fall-AI/master/MODULE-I/iris.names)\n"
      ]
    },
    {
      "cell_type": "code",
      "metadata": {
        "id": "X2Z70wjAxwTd",
        "colab_type": "code",
        "outputId": "b53a4e51-ee8a-49fe-cfc2-5b737f955946",
        "colab": {
          "base_uri": "https://localhost:8080/",
          "height": 173
        }
      },
      "source": [
        "from keras.models import Sequential\n",
        "from keras.layers import Dense\n",
        "import numpy as np\n",
        "import matplotlib.pyplot as plt\n",
        "\n",
        "# Column 2. sepal width in cm (load as col 0)\n",
        "# Column 3. petal length in cm (load as col 1)\n",
        "# Column 4. petal width in cm (load as col 2)\n",
        "datapath = 'https://raw.githubusercontent.com/badriadhikari/2019-Fall-AI/master/MODULE-I/iris.data'\n",
        "dataset = np.genfromtxt(datapath, delimiter=\",\", usecols=(1, 2, 3))\n",
        "\n",
        "print('')\n",
        "print(dataset.shape)\n",
        "print('')\n",
        "print(dataset[0:5])"
      ],
      "execution_count": 1,
      "outputs": [
        {
          "output_type": "stream",
          "text": [
            "Using TensorFlow backend.\n"
          ],
          "name": "stderr"
        },
        {
          "output_type": "stream",
          "text": [
            "\n",
            "(150, 3)\n",
            "\n",
            "[[3.5 1.4 0.2]\n",
            " [3.  1.4 0.2]\n",
            " [3.2 1.3 0.2]\n",
            " [3.1 1.5 0.2]\n",
            " [3.6 1.4 0.2]]\n"
          ],
          "name": "stdout"
        }
      ]
    },
    {
      "cell_type": "code",
      "metadata": {
        "id": "4nu2083-o43b",
        "colab_type": "code",
        "outputId": "5839566b-fce6-4362-9424-4ad7ee86374d",
        "colab": {
          "base_uri": "https://localhost:8080/",
          "height": 191
        }
      },
      "source": [
        "# Q1. Why is shuffling important before splitting?\n",
        "np.random.shuffle(dataset)\n",
        "print('')\n",
        "print(dataset[0:5])\n",
        "train = dataset[:100]\n",
        "valid = dataset[100:]\n",
        "print('')\n",
        "print(train.shape)\n",
        "print('')\n",
        "print(valid.shape)"
      ],
      "execution_count": 2,
      "outputs": [
        {
          "output_type": "stream",
          "text": [
            "\n",
            "[[2.6 5.6 1.4]\n",
            " [3.6 6.1 2.5]\n",
            " [3.2 5.1 2. ]\n",
            " [3.2 1.6 0.2]\n",
            " [2.9 4.5 1.5]]\n",
            "\n",
            "(100, 3)\n",
            "\n",
            "(50, 3)\n"
          ],
          "name": "stdout"
        }
      ]
    },
    {
      "cell_type": "code",
      "metadata": {
        "id": "PcZZQLoTpBJa",
        "colab_type": "code",
        "outputId": "4b423ff9-8d4e-4623-d1b4-1fe4f2db6112",
        "colab": {
          "base_uri": "https://localhost:8080/",
          "height": 549
        }
      },
      "source": [
        "#Q2. Which of the two input features are more useful\n",
        "#    for predicting petal width?\n",
        "plt.figure(figsize=(4,4))\n",
        "plt.scatter(train[:, 0], train[:, 2], color = 'r', alpha = 0.5)\n",
        "plt.xlabel('sepal width in cm')\n",
        "plt.ylabel('petal width in cm')\n",
        "plt.show()\n",
        "plt.figure(figsize=(4,4))\n",
        "plt.scatter(train[:, 1], train[:, 2], color = 'b', alpha = 0.5)\n",
        "plt.xlabel('petal length in cm')\n",
        "plt.ylabel('petal width in cm')\n",
        "plt.show()"
      ],
      "execution_count": 3,
      "outputs": [
        {
          "output_type": "display_data",
          "data": {
            "image/png": "[encoded data removed]",
            "text/plain": [
              "<Figure size 288x288 with 1 Axes>"
            ]
          },
          "metadata": {
            "tags": []
          }
        },
        {
          "output_type": "display_data",
          "data": {
            "image/png": "[encoded data removed]",
            "text/plain": [
              "<Figure size 288x288 with 1 Axes>"
            ]
          },
          "metadata": {
            "tags": []
          }
        }
      ]
    },
    {
      "cell_type": "code",
      "metadata": {
        "id": "4EicpcZlpB-r",
        "colab_type": "code",
        "outputId": "2a275a96-d450-455c-8d54-bace9b0c8556",
        "colab": {
          "base_uri": "https://localhost:8080/",
          "height": 156
        }
      },
      "source": [
        "train_input = train[:, 0:2] # col 2 & 3\n",
        "train_output = train[:, 2] # col 4\n",
        "valid_input = valid[:, 0:2]\n",
        "valid_output = valid[:, 2]\n",
        "\n",
        "print('')\n",
        "print(train_input[0:5])\n",
        "print('')\n",
        "print(train_output[0:5])"
      ],
      "execution_count": 4,
      "outputs": [
        {
          "output_type": "stream",
          "text": [
            "\n",
            "[[2.6 5.6]\n",
            " [3.6 6.1]\n",
            " [3.2 5.1]\n",
            " [3.2 1.6]\n",
            " [2.9 4.5]]\n",
            "\n",
            "[1.4 2.5 2.  0.2 1.5]\n"
          ],
          "name": "stdout"
        }
      ]
    },
    {
      "cell_type": "code",
      "metadata": {
        "id": "2c2W0zBBpCop",
        "colab_type": "code",
        "outputId": "d32d8a49-1e87-464b-cb5d-9ab61ae8b66c",
        "colab": {
          "base_uri": "https://localhost:8080/",
          "height": 191
        }
      },
      "source": [
        "#Q3. Why is the number of parameters (Param #) = 3? \n",
        "model = Sequential()\n",
        "model.add(Dense(1, input_dim = len(train_input[0]), activation='linear'))\n",
        "print(model.summary())"
      ],
      "execution_count": 14,
      "outputs": [
        {
          "output_type": "stream",
          "text": [
            "_________________________________________________________________\n",
            "Layer (type)                 Output Shape              Param #   \n",
            "=================================================================\n",
            "dense_7 (Dense)              (None, 1)                 3         \n",
            "=================================================================\n",
            "Total params: 3\n",
            "Trainable params: 3\n",
            "Non-trainable params: 0\n",
            "_________________________________________________________________\n",
            "None\n"
          ],
          "name": "stdout"
        }
      ]
    },
    {
      "cell_type": "code",
      "metadata": {
        "id": "wbKPJjBWwkzj",
        "colab_type": "code",
        "colab": {}
      },
      "source": [
        "# Changing 'mae' to 'mse' should improve the smoothness of \n",
        "#  the learning curve and possibly the overall errors\n",
        "model.compile(loss='mae', optimizer='sgd', metrics=['mae'])\n",
        "\n",
        "# Verbose = 0 shows no updates, can be changed to 1 or 2\n",
        "history = model.fit(train_input, train_output, epochs=25, \n",
        "                    verbose = 0, batch_size=10, \n",
        "                    validation_data = (valid_input, valid_output))"
      ],
      "execution_count": 0,
      "outputs": []
    },
    {
      "cell_type": "code",
      "metadata": {
        "id": "M1omYwUAprR-",
        "colab_type": "code",
        "outputId": "c9991627-b164-4715-b167-4774add39f7c",
        "colab": {
          "base_uri": "https://localhost:8080/",
          "height": 283
        }
      },
      "source": [
        "#Q4. Why eventually validation MAE is not \n",
        "#    always less than train MAE?\n",
        "plt.figure(figsize=(4,4))\n",
        "plt.plot(history.history['mean_absolute_error'])\n",
        "plt.plot(history.history['val_mean_absolute_error'])\n",
        "plt.ylabel('mean absolute error')\n",
        "plt.ylim(0, 1)\n",
        "plt.xlabel('epoch')\n",
        "plt.legend(['train', 'validation'], loc='upper right')\n",
        "plt.show()"
      ],
      "execution_count": 7,
      "outputs": [
        {
          "output_type": "display_data",
          "data": {
            "image/png": "[encoded data removed]",
            "text/plain": [
              "<Figure size 288x288 with 1 Axes>"
            ]
          },
          "metadata": {
            "tags": []
          }
        }
      ]
    },
    {
      "cell_type": "code",
      "metadata": {
        "id": "9_BLJERYpDT7",
        "colab_type": "code",
        "outputId": "126459ca-9750-44e2-c588-3864789f5159",
        "colab": {
          "base_uri": "https://localhost:8080/",
          "height": 87
        }
      },
      "source": [
        "#Q5. Are these predictions reasonable?\n",
        "np.set_printoptions(precision = 2)\n",
        "print ('True Validation Data:')\n",
        "print(valid_output[0:5])\n",
        "prediction = model.predict(valid_input)\n",
        "print ('Prediction:')\n",
        "print(prediction[0:5].T)"
      ],
      "execution_count": 8,
      "outputs": [
        {
          "output_type": "stream",
          "text": [
            "True Validation Data:\n",
            "[2.5 1.6 0.2 0.3 1.6]\n",
            "Prediction:\n",
            "[[1.87 1.92 0.04 0.15 1.4 ]]\n"
          ],
          "name": "stdout"
        }
      ]
    },
    {
      "cell_type": "code",
      "metadata": {
        "id": "JgIEocC2qAPg",
        "colab_type": "code",
        "outputId": "459e41b8-5897-4c20-eed9-626db3942aaa",
        "colab": {
          "base_uri": "https://localhost:8080/",
          "height": 87
        }
      },
      "source": [
        "#Q6. What weight corresponds to which input feature?\n",
        "#    Which input feature is important? Why?     \n",
        "print('Model weights (w0, w1, and bias):')\n",
        "w0 = model.layers[0].get_weights()[0][0]\n",
        "w1 = model.layers[0].get_weights()[0][1]\n",
        "b0 = model.layers[0].get_weights()[1]\n",
        "print(w0)\n",
        "print(w1)\n",
        "print(b0)"
      ],
      "execution_count": 9,
      "outputs": [
        {
          "output_type": "stream",
          "text": [
            "Model weights (w0, w1, and bias):\n",
            "[-0.01]\n",
            "[0.39]\n",
            "[-0.31]\n"
          ],
          "name": "stdout"
        }
      ]
    },
    {
      "cell_type": "code",
      "metadata": {
        "id": "0unCxAtRqCFP",
        "colab_type": "code",
        "outputId": "2f6052d8-c07c-4e07-db66-84691a9367c0",
        "colab": {
          "base_uri": "https://localhost:8080/",
          "height": 156
        }
      },
      "source": [
        "#Q7. Why do we use model.predict(), if we can compute\n",
        "#    the predictions from weights that the model learns?\n",
        "print('Validation Data 0:')\n",
        "print(valid_input[0], valid_output[0])\n",
        "print('Prediction:')\n",
        "print(valid_input[0, 0] * (w0) + valid_input[0, 1] * (w1) + (b0))\n",
        "print('Validation Data 1:')\n",
        "print(valid_input[1], valid_output[1])\n",
        "print('Prediction:')\n",
        "print(valid_input[1, 0] * (w0) + valid_input[1, 1] * (w1) + (b0))"
      ],
      "execution_count": 10,
      "outputs": [
        {
          "output_type": "stream",
          "text": [
            "Validation Data 0:\n",
            "[3.3 5.7] 2.5\n",
            "Prediction:\n",
            "[1.87]\n",
            "Validation Data 1:\n",
            "[3.  5.8] 1.6\n",
            "Prediction:\n",
            "[1.92]\n"
          ],
          "name": "stdout"
        }
      ]
    },
    {
      "cell_type": "code",
      "metadata": {
        "id": "Bm_wek3UUN0I",
        "colab_type": "code",
        "colab": {}
      },
      "source": [
        "model = Sequential()\n",
        "model.add(Dense(1, input_dim = len(train_input[0]), activation='linear'))"
      ],
      "execution_count": 0,
      "outputs": []
    },
    {
      "cell_type": "code",
      "metadata": {
        "id": "GxRN_totUSdQ",
        "colab_type": "code",
        "colab": {}
      },
      "source": [
        "model = Sequential()\n",
        "model.add(Dense(8, input_dim = len(train_input[0]), activation='sigmoid'))\n",
        "model.add(Dense(4, input_dim = len(train_input[0]), activation='sigmoid'))\n",
        "model.add(Dense(2, input_dim = len(train_input[0]), activation='sigmoid'))\n",
        "model.add(Dense(1, input_dim = len(train_input[0]), activation='linear'))"
      ],
      "execution_count": 0,
      "outputs": []
    },
    {
      "cell_type": "code",
      "metadata": {
        "id": "qTPefpiCUfNm",
        "colab_type": "code",
        "colab": {}
      },
      "source": [
        "def mymodel(X):\n",
        "    l1_n1 = X[0] * 0.6 + X[1] * 0.78 + ... + 0.98\n",
        "    l1_n2 = X[0] * 0.4 + X[1] * 0.54 + ... + 0.80\n",
        "    ...\n",
        "    l1_n8 = X[0] * 0.2 + X[1] * 0.81 + ... + 0.38\n",
        "    l2_n1 = ...\n",
        "    ...\n",
        "    l3_n1 = ...\n",
        "    ...\n",
        "    l4 = \n",
        "    return l4"
      ],
      "execution_count": 0,
      "outputs": []
    }
  ]
}