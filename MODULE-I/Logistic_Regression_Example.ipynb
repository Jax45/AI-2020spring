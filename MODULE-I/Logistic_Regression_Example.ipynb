{
  "nbformat": 4,
  "nbformat_minor": 0,
  "metadata": {
    "colab": {
      "name": "Logistic_Regression_Example.ipynb",
      "version": "0.3.2",
      "provenance": [],
      "collapsed_sections": [],
      "include_colab_link": true
    },
    "kernelspec": {
      "display_name": "Python 3",
      "language": "python",
      "name": "python3"
    }
  },
  "cells": [
    {
      "cell_type": "markdown",
      "metadata": {
        "id": "view-in-github",
        "colab_type": "text"
      },
      "source": [
        "<a href=\"https://colab.research.google.com/github/badriadhikari/2019-Fall-AI/blob/master/Logistic_Regression_Example.ipynb\" target=\"_parent\"><img src=\"https://colab.research.google.com/assets/colab-badge.svg\" alt=\"Open In Colab\"/></a>"
      ]
    },
    {
      "cell_type": "markdown",
      "metadata": {
        "id": "qNkOLgfjuiEa",
        "colab_type": "text"
      },
      "source": [
        "####Logistic Regression Example using the Iris Flower Dataset  \n",
        "* We would like to predict if a given data point (one row) belongs to the 'Iris-setosa' class\n",
        "* Dataset: [rawdata](https://raw.githubusercontent.com/badriadhikari/2019-Fall-AI/master/MODULE-I/iris.data) and [metadata](https://raw.githubusercontent.com/badriadhikari/2019-Fall-AI/master/MODULE-I/iris.names)"
      ]
    },
    {
      "cell_type": "code",
      "metadata": {
        "id": "X2Z70wjAxwTd",
        "colab_type": "code",
        "outputId": "2aed9851-d4bc-4365-9687-32df066ee9f8",
        "colab": {
          "base_uri": "https://localhost:8080/",
          "height": 433
        }
      },
      "source": [
        "from keras.models import Sequential\n",
        "from keras.layers import Dense\n",
        "import numpy as np\n",
        "import matplotlib.pyplot as plt\n",
        "\n",
        "datapath = 'https://raw.githubusercontent.com/badriadhikari/2019-Fall-AI/master/MODULE-I/iris.data'\n",
        "dataset = np.genfromtxt(datapath, delimiter=\",\", dtype = str)\n",
        "\n",
        "print('')\n",
        "print(dataset.shape)\n",
        "print('')\n",
        "print(dataset[0:5])\n",
        "\n",
        "dataset[:, 4] = np.where(dataset[:, 4] == 'Iris-setosa', 1, 0)\n",
        "#dataset[:, 4] = np.where(dataset[:, 4] == 'Iris-versicolor', 1, 0)\n",
        "#dataset[:, 4] = np.where(dataset[:, 4] == 'Iris-virginica', 1, 0)\n",
        "\n",
        "dataset = dataset.astype(float)\n",
        "print('')\n",
        "print(dataset[0:5])\n",
        "\n",
        "np.random.shuffle(dataset)\n",
        "print('')\n",
        "print(dataset[0:5])\n",
        "\n",
        "train = dataset[:100]\n",
        "valid = dataset[100:]\n",
        "print('')\n",
        "print(train.shape)\n",
        "print('')\n",
        "print(valid.shape)"
      ],
      "execution_count": 25,
      "outputs": [
        {
          "output_type": "stream",
          "text": [
            "\n",
            "(150, 5)\n",
            "\n",
            "[['5.1' '3.5' '1.4' '0.2' 'Iris-setosa']\n",
            " ['4.9' '3.0' '1.4' '0.2' 'Iris-setosa']\n",
            " ['4.7' '3.2' '1.3' '0.2' 'Iris-setosa']\n",
            " ['4.6' '3.1' '1.5' '0.2' 'Iris-setosa']\n",
            " ['5.0' '3.6' '1.4' '0.2' 'Iris-setosa']]\n",
            "\n",
            "[[5.1 3.5 1.4 0.2 1. ]\n",
            " [4.9 3.  1.4 0.2 1. ]\n",
            " [4.7 3.2 1.3 0.2 1. ]\n",
            " [4.6 3.1 1.5 0.2 1. ]\n",
            " [5.  3.6 1.4 0.2 1. ]]\n",
            "\n",
            "[[6.1 2.8 4.  1.3 0. ]\n",
            " [5.  3.3 1.4 0.2 1. ]\n",
            " [6.4 2.7 5.3 1.9 0. ]\n",
            " [5.7 2.5 5.  2.  0. ]\n",
            " [4.8 3.4 1.9 0.2 1. ]]\n",
            "\n",
            "(100, 5)\n",
            "\n",
            "(50, 5)\n"
          ],
          "name": "stdout"
        }
      ]
    },
    {
      "cell_type": "code",
      "metadata": {
        "id": "F6-9Q8r54BIF",
        "colab_type": "code",
        "outputId": "eb414d13-03a2-4cac-ad35-93d576fd6a12",
        "colab": {
          "base_uri": "https://localhost:8080/",
          "height": 156
        }
      },
      "source": [
        "train_input = train[:, 0:4]\n",
        "train_output = train[:, 4]\n",
        "valid_input = valid[:, 0:4]\n",
        "valid_output = valid[:, 4]\n",
        "\n",
        "print('')\n",
        "print(train_input[0:5])\n",
        "print('')\n",
        "print(train_output[0:5])"
      ],
      "execution_count": 26,
      "outputs": [
        {
          "output_type": "stream",
          "text": [
            "\n",
            "[[6.1 2.8 4.  1.3]\n",
            " [5.  3.3 1.4 0.2]\n",
            " [6.4 2.7 5.3 1.9]\n",
            " [5.7 2.5 5.  2. ]\n",
            " [4.8 3.4 1.9 0.2]]\n",
            "\n",
            "[0. 1. 0. 0. 1.]\n"
          ],
          "name": "stdout"
        }
      ]
    },
    {
      "cell_type": "code",
      "metadata": {
        "id": "j8DwW6i2zPmX",
        "colab_type": "code",
        "colab": {
          "base_uri": "https://localhost:8080/",
          "height": 52
        },
        "outputId": "12a5e7da-d0a6-4d76-e6ff-936e680b780d"
      },
      "source": [
        "print(len(train_output), train_output.sum())\n",
        "print(len(valid_output), valid_output.sum())"
      ],
      "execution_count": 27,
      "outputs": [
        {
          "output_type": "stream",
          "text": [
            "100 35.0\n",
            "50 15.0\n"
          ],
          "name": "stdout"
        }
      ]
    },
    {
      "cell_type": "code",
      "metadata": {
        "id": "X919yuoQ2ZEr",
        "colab_type": "code",
        "outputId": "2b458998-2d13-4195-a655-82a909e68851",
        "colab": {
          "base_uri": "https://localhost:8080/",
          "height": 1000
        }
      },
      "source": [
        "model = Sequential()\n",
        "model.add(Dense(1, input_dim = 4, activation='sigmoid'))\n",
        "print(model.summary())\n",
        "model.compile(loss='binary_crossentropy', optimizer='rmsprop', metrics=['accuracy'])\n",
        "history = model.fit(train_input, train_output, epochs=32 \n",
        "                    ,batch_size=4, verbose = 2\n",
        "                    ,validation_data = (valid_input, valid_output))"
      ],
      "execution_count": 38,
      "outputs": [
        {
          "output_type": "stream",
          "text": [
            "_________________________________________________________________\n",
            "Layer (type)                 Output Shape              Param #   \n",
            "=================================================================\n",
            "dense_13 (Dense)             (None, 1)                 5         \n",
            "=================================================================\n",
            "Total params: 5\n",
            "Trainable params: 5\n",
            "Non-trainable params: 0\n",
            "_________________________________________________________________\n",
            "None\n",
            "Train on 100 samples, validate on 50 samples\n",
            "Epoch 1/32\n",
            " - 0s - loss: 0.8565 - acc: 0.6500 - val_loss: 0.7429 - val_acc: 0.7000\n",
            "Epoch 2/32\n",
            " - 0s - loss: 0.8254 - acc: 0.6500 - val_loss: 0.7216 - val_acc: 0.7000\n",
            "Epoch 3/32\n",
            " - 0s - loss: 0.7976 - acc: 0.6500 - val_loss: 0.7002 - val_acc: 0.7000\n",
            "Epoch 4/32\n",
            " - 0s - loss: 0.7744 - acc: 0.6500 - val_loss: 0.6831 - val_acc: 0.7000\n",
            "Epoch 5/32\n",
            " - 0s - loss: 0.7515 - acc: 0.6500 - val_loss: 0.6651 - val_acc: 0.7000\n",
            "Epoch 6/32\n",
            " - 0s - loss: 0.7311 - acc: 0.6500 - val_loss: 0.6501 - val_acc: 0.7000\n",
            "Epoch 7/32\n",
            " - 0s - loss: 0.7123 - acc: 0.6500 - val_loss: 0.6351 - val_acc: 0.7000\n",
            "Epoch 8/32\n",
            " - 0s - loss: 0.6957 - acc: 0.6500 - val_loss: 0.6216 - val_acc: 0.7000\n",
            "Epoch 9/32\n",
            " - 0s - loss: 0.6775 - acc: 0.6500 - val_loss: 0.6062 - val_acc: 0.7000\n",
            "Epoch 10/32\n",
            " - 0s - loss: 0.6584 - acc: 0.6500 - val_loss: 0.5901 - val_acc: 0.7000\n",
            "Epoch 11/32\n",
            " - 0s - loss: 0.6386 - acc: 0.6500 - val_loss: 0.5744 - val_acc: 0.7000\n",
            "Epoch 12/32\n",
            " - 0s - loss: 0.6207 - acc: 0.6500 - val_loss: 0.5600 - val_acc: 0.7000\n",
            "Epoch 13/32\n",
            " - 0s - loss: 0.6037 - acc: 0.6500 - val_loss: 0.5457 - val_acc: 0.7000\n",
            "Epoch 14/32\n",
            " - 0s - loss: 0.5853 - acc: 0.6500 - val_loss: 0.5308 - val_acc: 0.7000\n",
            "Epoch 15/32\n",
            " - 0s - loss: 0.5680 - acc: 0.6500 - val_loss: 0.5161 - val_acc: 0.7000\n",
            "Epoch 16/32\n",
            " - 0s - loss: 0.5511 - acc: 0.6500 - val_loss: 0.5027 - val_acc: 0.7000\n",
            "Epoch 17/32\n",
            " - 0s - loss: 0.5360 - acc: 0.6500 - val_loss: 0.4904 - val_acc: 0.7000\n",
            "Epoch 18/32\n",
            " - 0s - loss: 0.5213 - acc: 0.6500 - val_loss: 0.4776 - val_acc: 0.7000\n",
            "Epoch 19/32\n",
            " - 0s - loss: 0.5070 - acc: 0.6500 - val_loss: 0.4652 - val_acc: 0.7000\n",
            "Epoch 20/32\n",
            " - 0s - loss: 0.4923 - acc: 0.6500 - val_loss: 0.4528 - val_acc: 0.7000\n",
            "Epoch 21/32\n",
            " - 0s - loss: 0.4780 - acc: 0.6500 - val_loss: 0.4405 - val_acc: 0.7000\n",
            "Epoch 22/32\n",
            " - 0s - loss: 0.4638 - acc: 0.6500 - val_loss: 0.4279 - val_acc: 0.7000\n",
            "Epoch 23/32\n",
            " - 0s - loss: 0.4486 - acc: 0.6500 - val_loss: 0.4148 - val_acc: 0.7400\n",
            "Epoch 24/32\n",
            " - 0s - loss: 0.4352 - acc: 0.6700 - val_loss: 0.4041 - val_acc: 0.7400\n",
            "Epoch 25/32\n",
            " - 0s - loss: 0.4236 - acc: 0.6700 - val_loss: 0.3936 - val_acc: 0.7400\n",
            "Epoch 26/32\n",
            " - 0s - loss: 0.4115 - acc: 0.6800 - val_loss: 0.3841 - val_acc: 0.7600\n",
            "Epoch 27/32\n",
            " - 0s - loss: 0.3999 - acc: 0.7300 - val_loss: 0.3730 - val_acc: 0.7800\n",
            "Epoch 28/32\n",
            " - 0s - loss: 0.3894 - acc: 0.7300 - val_loss: 0.3641 - val_acc: 0.9000\n",
            "Epoch 29/32\n",
            " - 0s - loss: 0.3783 - acc: 0.8300 - val_loss: 0.3545 - val_acc: 0.9000\n",
            "Epoch 30/32\n",
            " - 0s - loss: 0.3673 - acc: 0.8800 - val_loss: 0.3440 - val_acc: 0.9200\n",
            "Epoch 31/32\n",
            " - 0s - loss: 0.3553 - acc: 0.9100 - val_loss: 0.3333 - val_acc: 0.9200\n",
            "Epoch 32/32\n",
            " - 0s - loss: 0.3446 - acc: 0.9200 - val_loss: 0.3244 - val_acc: 0.9200\n"
          ],
          "name": "stdout"
        }
      ]
    },
    {
      "cell_type": "code",
      "metadata": {
        "id": "yihfvcrl4G2k",
        "colab_type": "code",
        "outputId": "d2c52f89-e4fe-466f-d810-6d50a0111a24",
        "colab": {
          "base_uri": "https://localhost:8080/",
          "height": 549
        }
      },
      "source": [
        "plt.figure(figsize=(4,4))\n",
        "plt.plot(history.history['acc'])\n",
        "plt.plot(history.history['val_acc'])\n",
        "plt.ylabel('accuracy')\n",
        "plt.xlabel('epoch')\n",
        "plt.legend(['train', 'validation'], loc='upper right')\n",
        "plt.show()\n",
        "\n",
        "plt.figure(figsize=(4,4))\n",
        "plt.plot(history.history['loss'])\n",
        "plt.plot(history.history['val_loss'])\n",
        "plt.ylabel('loss')\n",
        "plt.xlabel('epoch')\n",
        "plt.legend(['train', 'validation'], loc='upper right')\n",
        "plt.show()"
      ],
      "execution_count": 39,
      "outputs": [
        {
          "output_type": "display_data",
          "data": {
            "image/png": "[encoded data removed]",
            "text/plain": [
              "<Figure size 288x288 with 1 Axes>"
            ]
          },
          "metadata": {
            "tags": []
          }
        },
        {
          "output_type": "display_data",
          "data": {
            "image/png": "[encoded data removed]",
            "text/plain": [
              "<Figure size 288x288 with 1 Axes>"
            ]
          },
          "metadata": {
            "tags": []
          }
        }
      ]
    },
    {
      "cell_type": "code",
      "metadata": {
        "id": "bduK9qqQ4Ibl",
        "colab_type": "code",
        "outputId": "0288cdf2-aa82-49cf-ac45-15fef5ebc026",
        "colab": {
          "base_uri": "https://localhost:8080/",
          "height": 87
        }
      },
      "source": [
        "np.set_printoptions(precision = 2)\n",
        "print ('True Validation Data:')\n",
        "print(valid_output[0:5])\n",
        "prediction = model.predict(valid_input)\n",
        "print ('Prediction:')\n",
        "print(prediction[0:5].T)"
      ],
      "execution_count": 40,
      "outputs": [
        {
          "output_type": "stream",
          "text": [
            "True Validation Data:\n",
            "[0. 0. 1. 1. 1.]\n",
            "Prediction:\n",
            "[[0.26 0.22 0.55 0.56 0.56]]\n"
          ],
          "name": "stdout"
        }
      ]
    },
    {
      "cell_type": "code",
      "metadata": {
        "id": "-rlSK5qd0Oot",
        "colab_type": "code",
        "colab": {}
      },
      "source": [
        ""
      ],
      "execution_count": 0,
      "outputs": []
    }
  ]
}