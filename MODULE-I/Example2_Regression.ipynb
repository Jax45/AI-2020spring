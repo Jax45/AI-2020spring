{
  "nbformat": 4,
  "nbformat_minor": 0,
  "metadata": {
    "colab": {
      "name": "Example2_Regression.ipynb",
      "version": "0.3.2",
      "provenance": [],
      "collapsed_sections": [],
      "include_colab_link": true
    },
    "kernelspec": {
      "name": "python3",
      "display_name": "Python 3"
    }
  },
  "cells": [
    {
      "cell_type": "markdown",
      "metadata": {
        "id": "view-in-github",
        "colab_type": "text"
      },
      "source": [
        "<a href=\"https://colab.research.google.com/github/badriadhikari/2019-Fall-AI/blob/master/MODULE-I/Example2_Regression.ipynb\" target=\"_parent\"><img src=\"https://colab.research.google.com/assets/colab-badge.svg\" alt=\"Open In Colab\"/></a>"
      ]
    },
    {
      "cell_type": "markdown",
      "metadata": {
        "id": "7kUj8gFFxwTZ",
        "colab_type": "text"
      },
      "source": [
        "# Example 2: Regression\n",
        "* We would like to predict 'age' from diagnostic measures and 'known diabetes labels' (The Pima Indians Diabetes Database) \n",
        "* Dataset: [rawdata](https://raw.githubusercontent.com/badriadhikari/2019-Fall-AI/master/MODULE-I/pima-indians-diabetes.data.csv) and [Reference](https://www.kaggle.com/uciml/pima-indians-diabetes-database)"
      ]
    },
    {
      "cell_type": "markdown",
      "metadata": {
        "id": "2n2UFLYnyNzs",
        "colab_type": "text"
      },
      "source": [
        "## Step 1: Load data and split"
      ]
    },
    {
      "cell_type": "code",
      "metadata": {
        "id": "X2Z70wjAxwTd",
        "colab_type": "code",
        "outputId": "1c48b628-b307-4b5f-d410-e4202b841759",
        "colab": {
          "base_uri": "https://localhost:8080/",
          "height": 50
        }
      },
      "source": [
        "from keras.models import Sequential\n",
        "from keras.layers import Dense\n",
        "import matplotlib.pyplot as plt\n",
        "from sklearn.metrics import mean_absolute_error, mean_squared_error\n",
        "import numpy as np\n",
        "\n",
        "np.set_printoptions(formatter={'float': lambda x: \"{0:0.2f}\".format(x)})\n",
        "\n",
        "dataset = np.loadtxt(\"https://raw.githubusercontent.com/badriadhikari/2019-Fall-AI/master/MODULE-I/pima-indians-diabetes.data.csv\", delimiter=\",\")\n",
        "print(dataset.shape)\n",
        "\n",
        "# First 7 column and the last column are inputs\n",
        "# 7th column will be the ground truth (age)\n",
        "XTRAIN = dataset[:700,[0,1,2,3,4,5,6,8]]\n",
        "YTRAIN = dataset[:700,7]\n",
        "XVALIDATION = dataset[700:,[0,1,2,3,4,5,6,8]]\n",
        "YVALIDATION = dataset[700:,7]"
      ],
      "execution_count": 1,
      "outputs": [
        {
          "output_type": "stream",
          "text": [
            "Using TensorFlow backend.\n"
          ],
          "name": "stderr"
        },
        {
          "output_type": "stream",
          "text": [
            "(768, 9)\n"
          ],
          "name": "stdout"
        }
      ]
    },
    {
      "cell_type": "markdown",
      "metadata": {
        "id": "qPNA5gq4zY3b",
        "colab_type": "text"
      },
      "source": [
        "## Step 2: Preview first 5 rows"
      ]
    },
    {
      "cell_type": "code",
      "metadata": {
        "id": "EteILM6fxqcc",
        "colab_type": "code",
        "colab": {
          "base_uri": "https://localhost:8080/",
          "height": 286
        },
        "outputId": "4109d8c0-c3bc-4ad1-8c2f-5656d2e9a039"
      },
      "source": [
        "print(XTRAIN.shape, YTRAIN.shape)\n",
        "print(XVALIDATION.shape, YVALIDATION.shape)\n",
        "print('Train:')\n",
        "print(XTRAIN[0:5,])\n",
        "print(YTRAIN[0:5])\n",
        "print('Validation:')\n",
        "print(XVALIDATION[0:5,])\n",
        "print(YVALIDATION[0:5])"
      ],
      "execution_count": 2,
      "outputs": [
        {
          "output_type": "stream",
          "text": [
            "(700, 8) (700,)\n",
            "(68, 8) (68,)\n",
            "Train:\n",
            "[[6.00 148.00 72.00 35.00 0.00 33.60 0.63 1.00]\n",
            " [1.00 85.00 66.00 29.00 0.00 26.60 0.35 0.00]\n",
            " [8.00 183.00 64.00 0.00 0.00 23.30 0.67 1.00]\n",
            " [1.00 89.00 66.00 23.00 94.00 28.10 0.17 0.00]\n",
            " [0.00 137.00 40.00 35.00 168.00 43.10 2.29 1.00]]\n",
            "[50.00 31.00 32.00 21.00 33.00]\n",
            "Validation:\n",
            "[[2.00 122.00 76.00 27.00 200.00 35.90 0.48 0.00]\n",
            " [6.00 125.00 78.00 31.00 0.00 27.60 0.56 1.00]\n",
            " [1.00 168.00 88.00 29.00 0.00 35.00 0.91 1.00]\n",
            " [2.00 129.00 0.00 0.00 0.00 38.50 0.30 0.00]\n",
            " [4.00 110.00 76.00 20.00 100.00 28.40 0.12 0.00]]\n",
            "[26.00 49.00 52.00 41.00 27.00]\n"
          ],
          "name": "stdout"
        }
      ]
    },
    {
      "cell_type": "markdown",
      "metadata": {
        "id": "pe3F-cOvyGML",
        "colab_type": "text"
      },
      "source": [
        "## Step 3: Normalize"
      ]
    },
    {
      "cell_type": "code",
      "metadata": {
        "id": "CdZJw9hNyIDs",
        "colab_type": "code",
        "colab": {}
      },
      "source": [
        "mean = XTRAIN.mean(axis=0)\n",
        "XTRAIN -= mean\n",
        "std = XTRAIN.std(axis=0)\n",
        "XTRAIN /= std\n",
        "\n",
        "XVALIDATION -= mean\n",
        "XVALIDATION /= std"
      ],
      "execution_count": 0,
      "outputs": []
    },
    {
      "cell_type": "code",
      "metadata": {
        "id": "uqZ765Xv2c-7",
        "colab_type": "code",
        "colab": {
          "base_uri": "https://localhost:8080/",
          "height": 269
        },
        "outputId": "e249db90-cac5-45d4-ec62-b3e1739a5319"
      },
      "source": [
        "# Normalize the output?\n",
        "plt.hist(YTRAIN)\n",
        "plt.ylabel('age')\n",
        "plt.show()"
      ],
      "execution_count": 4,
      "outputs": [
        {
          "output_type": "display_data",
          "data": {
            "image/png": "[encoded data removed]",
            "text/plain": [
              "<Figure size 432x288 with 1 Axes>"
            ]
          },
          "metadata": {
            "tags": []
          }
        }
      ]
    },
    {
      "cell_type": "markdown",
      "metadata": {
        "id": "SqV6ttLlyNNo",
        "colab_type": "text"
      },
      "source": [
        "## Step 4: Check obvious correlations"
      ]
    },
    {
      "cell_type": "code",
      "metadata": {
        "id": "QDaq7tm4yRaX",
        "colab_type": "code",
        "colab": {
          "base_uri": "https://localhost:8080/",
          "height": 283
        },
        "outputId": "9386ceec-6a8b-4a34-aae6-4b61188f9618"
      },
      "source": [
        "plt.plot(XTRAIN[:, 1], YTRAIN, '.')\n",
        "plt.xlabel('1st column (glucose)')\n",
        "plt.ylabel('age')\n",
        "plt.show()"
      ],
      "execution_count": 5,
      "outputs": [
        {
          "output_type": "display_data",
          "data": {
            "image/png": "[encoded data removed]",
            "text/plain": [
              "<Figure size 432x288 with 1 Axes>"
            ]
          },
          "metadata": {
            "tags": []
          }
        }
      ]
    },
    {
      "cell_type": "markdown",
      "metadata": {
        "id": "QxT4T1hG6PAc",
        "colab_type": "text"
      },
      "source": [
        "Should we do this for all input features?"
      ]
    },
    {
      "cell_type": "markdown",
      "metadata": {
        "id": "-3DxGlB2xwTv",
        "colab_type": "text"
      },
      "source": [
        "## Step 5: Fit a model"
      ]
    },
    {
      "cell_type": "code",
      "metadata": {
        "id": "FhRrPhElxwTw",
        "colab_type": "code",
        "outputId": "32ed5886-e509-44ad-a784-62701f81fd24",
        "colab": {
          "base_uri": "https://localhost:8080/",
          "height": 1000
        }
      },
      "source": [
        "model = Sequential()\n",
        "model.add(Dense(12, input_dim = len(XTRAIN[0,:]), activation='relu'))\n",
        "model.add(Dense(8, activation='relu'))\n",
        "model.add(Dense(1, activation='linear'))\n",
        "print(model.summary())\n",
        "\n",
        "# mse = mean squared error (loss)\n",
        "# mae = mean absolute error (metric)\n",
        "model.compile(loss='mse', optimizer='adam', metrics=['mae'])\n",
        "\n",
        "# validation data is NOT USED for training\n",
        "history = model.fit(XTRAIN, YTRAIN, epochs=50, batch_size=10, validation_data=(XVALIDATION, YVALIDATION))"
      ],
      "execution_count": 6,
      "outputs": [
        {
          "output_type": "stream",
          "text": [
            "WARNING:tensorflow:From /usr/local/lib/python3.6/dist-packages/keras/backend/tensorflow_backend.py:66: The name tf.get_default_graph is deprecated. Please use tf.compat.v1.get_default_graph instead.\n",
            "\n",
            "WARNING:tensorflow:From /usr/local/lib/python3.6/dist-packages/keras/backend/tensorflow_backend.py:541: The name tf.placeholder is deprecated. Please use tf.compat.v1.placeholder instead.\n",
            "\n",
            "WARNING:tensorflow:From /usr/local/lib/python3.6/dist-packages/keras/backend/tensorflow_backend.py:4432: The name tf.random_uniform is deprecated. Please use tf.random.uniform instead.\n",
            "\n",
            "Model: \"sequential_1\"\n",
            "_________________________________________________________________\n",
            "Layer (type)                 Output Shape              Param #   \n",
            "=================================================================\n",
            "dense_1 (Dense)              (None, 12)                108       \n",
            "_________________________________________________________________\n",
            "dense_2 (Dense)              (None, 8)                 104       \n",
            "_________________________________________________________________\n",
            "dense_3 (Dense)              (None, 1)                 9         \n",
            "=================================================================\n",
            "Total params: 221\n",
            "Trainable params: 221\n",
            "Non-trainable params: 0\n",
            "_________________________________________________________________\n",
            "None\n",
            "WARNING:tensorflow:From /usr/local/lib/python3.6/dist-packages/keras/optimizers.py:793: The name tf.train.Optimizer is deprecated. Please use tf.compat.v1.train.Optimizer instead.\n",
            "\n",
            "WARNING:tensorflow:From /usr/local/lib/python3.6/dist-packages/keras/backend/tensorflow_backend.py:1033: The name tf.assign_add is deprecated. Please use tf.compat.v1.assign_add instead.\n",
            "\n",
            "WARNING:tensorflow:From /usr/local/lib/python3.6/dist-packages/keras/backend/tensorflow_backend.py:1020: The name tf.assign is deprecated. Please use tf.compat.v1.assign instead.\n",
            "\n",
            "Train on 700 samples, validate on 68 samples\n",
            "Epoch 1/50\n",
            "700/700 [==============================] - 0s 459us/step - loss: 1176.7459 - mean_absolute_error: 32.2523 - val_loss: 1214.6339 - val_mean_absolute_error: 32.9904\n",
            "Epoch 2/50\n",
            "700/700 [==============================] - 0s 122us/step - loss: 1060.1292 - mean_absolute_error: 30.4129 - val_loss: 1073.7737 - val_mean_absolute_error: 30.8121\n",
            "Epoch 3/50\n",
            "700/700 [==============================] - 0s 122us/step - loss: 879.4643 - mean_absolute_error: 27.3621 - val_loss: 856.1027 - val_mean_absolute_error: 27.0916\n",
            "Epoch 4/50\n",
            "700/700 [==============================] - 0s 127us/step - loss: 635.3429 - mean_absolute_error: 22.6235 - val_loss: 588.6137 - val_mean_absolute_error: 21.5965\n",
            "Epoch 5/50\n",
            "700/700 [==============================] - 0s 133us/step - loss: 383.9107 - mean_absolute_error: 16.5293 - val_loss: 338.1830 - val_mean_absolute_error: 15.1775\n",
            "Epoch 6/50\n",
            "700/700 [==============================] - 0s 120us/step - loss: 213.5937 - mean_absolute_error: 11.2104 - val_loss: 211.2284 - val_mean_absolute_error: 11.3894\n",
            "Epoch 7/50\n",
            "700/700 [==============================] - 0s 130us/step - loss: 148.7589 - mean_absolute_error: 8.8084 - val_loss: 164.5921 - val_mean_absolute_error: 9.6398\n",
            "Epoch 8/50\n",
            "700/700 [==============================] - 0s 124us/step - loss: 128.5461 - mean_absolute_error: 8.1547 - val_loss: 145.1056 - val_mean_absolute_error: 8.9102\n",
            "Epoch 9/50\n",
            "700/700 [==============================] - 0s 138us/step - loss: 119.3863 - mean_absolute_error: 7.8087 - val_loss: 134.0193 - val_mean_absolute_error: 8.4576\n",
            "Epoch 10/50\n",
            "700/700 [==============================] - 0s 123us/step - loss: 113.4983 - mean_absolute_error: 7.6011 - val_loss: 126.4698 - val_mean_absolute_error: 8.1526\n",
            "Epoch 11/50\n",
            "700/700 [==============================] - 0s 119us/step - loss: 109.0226 - mean_absolute_error: 7.4350 - val_loss: 121.6503 - val_mean_absolute_error: 7.9428\n",
            "Epoch 12/50\n",
            "700/700 [==============================] - 0s 133us/step - loss: 105.2707 - mean_absolute_error: 7.3393 - val_loss: 115.9509 - val_mean_absolute_error: 7.7316\n",
            "Epoch 13/50\n",
            "700/700 [==============================] - 0s 120us/step - loss: 102.0810 - mean_absolute_error: 7.2016 - val_loss: 112.7673 - val_mean_absolute_error: 7.5872\n",
            "Epoch 14/50\n",
            "700/700 [==============================] - 0s 133us/step - loss: 99.5819 - mean_absolute_error: 7.0573 - val_loss: 110.3497 - val_mean_absolute_error: 7.4821\n",
            "Epoch 15/50\n",
            "700/700 [==============================] - 0s 140us/step - loss: 97.3536 - mean_absolute_error: 7.0178 - val_loss: 107.9147 - val_mean_absolute_error: 7.3792\n",
            "Epoch 16/50\n",
            "700/700 [==============================] - 0s 139us/step - loss: 95.4116 - mean_absolute_error: 6.9229 - val_loss: 105.4868 - val_mean_absolute_error: 7.3009\n",
            "Epoch 17/50\n",
            "700/700 [==============================] - 0s 140us/step - loss: 93.5989 - mean_absolute_error: 6.8723 - val_loss: 103.8519 - val_mean_absolute_error: 7.2429\n",
            "Epoch 18/50\n",
            "700/700 [==============================] - 0s 144us/step - loss: 92.4630 - mean_absolute_error: 6.8016 - val_loss: 102.0676 - val_mean_absolute_error: 7.1908\n",
            "Epoch 19/50\n",
            "700/700 [==============================] - 0s 131us/step - loss: 90.9763 - mean_absolute_error: 6.7649 - val_loss: 101.5905 - val_mean_absolute_error: 7.1561\n",
            "Epoch 20/50\n",
            "700/700 [==============================] - 0s 144us/step - loss: 89.6759 - mean_absolute_error: 6.6954 - val_loss: 99.9700 - val_mean_absolute_error: 7.1158\n",
            "Epoch 21/50\n",
            "700/700 [==============================] - 0s 120us/step - loss: 88.5402 - mean_absolute_error: 6.6164 - val_loss: 98.3852 - val_mean_absolute_error: 7.1002\n",
            "Epoch 22/50\n",
            "700/700 [==============================] - 0s 128us/step - loss: 87.3615 - mean_absolute_error: 6.6368 - val_loss: 98.0388 - val_mean_absolute_error: 7.0771\n",
            "Epoch 23/50\n",
            "700/700 [==============================] - 0s 117us/step - loss: 86.6574 - mean_absolute_error: 6.5367 - val_loss: 96.5468 - val_mean_absolute_error: 7.0639\n",
            "Epoch 24/50\n",
            "700/700 [==============================] - 0s 129us/step - loss: 85.5858 - mean_absolute_error: 6.5298 - val_loss: 95.8905 - val_mean_absolute_error: 7.0498\n",
            "Epoch 25/50\n",
            "700/700 [==============================] - 0s 144us/step - loss: 84.8605 - mean_absolute_error: 6.4816 - val_loss: 95.1785 - val_mean_absolute_error: 7.0569\n",
            "Epoch 26/50\n",
            "700/700 [==============================] - 0s 142us/step - loss: 84.3196 - mean_absolute_error: 6.5152 - val_loss: 94.6482 - val_mean_absolute_error: 7.0431\n",
            "Epoch 27/50\n",
            "700/700 [==============================] - 0s 144us/step - loss: 83.6864 - mean_absolute_error: 6.4892 - val_loss: 94.5230 - val_mean_absolute_error: 7.0206\n",
            "Epoch 28/50\n",
            "700/700 [==============================] - 0s 115us/step - loss: 82.9180 - mean_absolute_error: 6.3812 - val_loss: 93.4432 - val_mean_absolute_error: 7.0023\n",
            "Epoch 29/50\n",
            "700/700 [==============================] - 0s 131us/step - loss: 82.6122 - mean_absolute_error: 6.4345 - val_loss: 93.5848 - val_mean_absolute_error: 7.0161\n",
            "Epoch 30/50\n",
            "700/700 [==============================] - 0s 133us/step - loss: 82.0068 - mean_absolute_error: 6.3654 - val_loss: 92.2609 - val_mean_absolute_error: 6.9695\n",
            "Epoch 31/50\n",
            "700/700 [==============================] - 0s 130us/step - loss: 81.6810 - mean_absolute_error: 6.3851 - val_loss: 92.6730 - val_mean_absolute_error: 6.9737\n",
            "Epoch 32/50\n",
            "700/700 [==============================] - 0s 136us/step - loss: 81.1011 - mean_absolute_error: 6.2945 - val_loss: 91.2178 - val_mean_absolute_error: 6.9656\n",
            "Epoch 33/50\n",
            "700/700 [==============================] - 0s 121us/step - loss: 80.8081 - mean_absolute_error: 6.3504 - val_loss: 90.7029 - val_mean_absolute_error: 6.9733\n",
            "Epoch 34/50\n",
            "700/700 [==============================] - 0s 128us/step - loss: 80.5807 - mean_absolute_error: 6.2766 - val_loss: 90.6643 - val_mean_absolute_error: 6.9657\n",
            "Epoch 35/50\n",
            "700/700 [==============================] - 0s 123us/step - loss: 79.9917 - mean_absolute_error: 6.3010 - val_loss: 90.1147 - val_mean_absolute_error: 6.9794\n",
            "Epoch 36/50\n",
            "700/700 [==============================] - 0s 119us/step - loss: 79.6647 - mean_absolute_error: 6.2899 - val_loss: 90.2748 - val_mean_absolute_error: 6.9630\n",
            "Epoch 37/50\n",
            "700/700 [==============================] - 0s 121us/step - loss: 79.2233 - mean_absolute_error: 6.2980 - val_loss: 90.0073 - val_mean_absolute_error: 6.9768\n",
            "Epoch 38/50\n",
            "700/700 [==============================] - 0s 125us/step - loss: 79.0044 - mean_absolute_error: 6.2235 - val_loss: 89.4654 - val_mean_absolute_error: 6.9655\n",
            "Epoch 39/50\n",
            "700/700 [==============================] - 0s 124us/step - loss: 78.5791 - mean_absolute_error: 6.2746 - val_loss: 88.8721 - val_mean_absolute_error: 6.9594\n",
            "Epoch 40/50\n",
            "700/700 [==============================] - 0s 121us/step - loss: 78.6955 - mean_absolute_error: 6.2241 - val_loss: 88.9577 - val_mean_absolute_error: 6.9566\n",
            "Epoch 41/50\n",
            "700/700 [==============================] - 0s 125us/step - loss: 78.0407 - mean_absolute_error: 6.1936 - val_loss: 88.1362 - val_mean_absolute_error: 6.9424\n",
            "Epoch 42/50\n",
            "700/700 [==============================] - 0s 134us/step - loss: 78.0478 - mean_absolute_error: 6.2793 - val_loss: 88.1709 - val_mean_absolute_error: 6.9658\n",
            "Epoch 43/50\n",
            "700/700 [==============================] - 0s 121us/step - loss: 77.6354 - mean_absolute_error: 6.1341 - val_loss: 88.0696 - val_mean_absolute_error: 6.9453\n",
            "Epoch 44/50\n",
            "700/700 [==============================] - 0s 127us/step - loss: 77.5735 - mean_absolute_error: 6.2518 - val_loss: 88.2524 - val_mean_absolute_error: 6.9323\n",
            "Epoch 45/50\n",
            "700/700 [==============================] - 0s 128us/step - loss: 77.4441 - mean_absolute_error: 6.1903 - val_loss: 87.5511 - val_mean_absolute_error: 6.9498\n",
            "Epoch 46/50\n",
            "700/700 [==============================] - 0s 115us/step - loss: 76.9778 - mean_absolute_error: 6.2078 - val_loss: 87.6610 - val_mean_absolute_error: 6.9344\n",
            "Epoch 47/50\n",
            "700/700 [==============================] - 0s 127us/step - loss: 77.0021 - mean_absolute_error: 6.1623 - val_loss: 87.0067 - val_mean_absolute_error: 6.9182\n",
            "Epoch 48/50\n",
            "700/700 [==============================] - 0s 121us/step - loss: 76.5341 - mean_absolute_error: 6.1604 - val_loss: 86.7712 - val_mean_absolute_error: 6.9186\n",
            "Epoch 49/50\n",
            "700/700 [==============================] - 0s 118us/step - loss: 76.4959 - mean_absolute_error: 6.1137 - val_loss: 86.5130 - val_mean_absolute_error: 6.9522\n",
            "Epoch 50/50\n",
            "700/700 [==============================] - 0s 122us/step - loss: 76.3447 - mean_absolute_error: 6.2112 - val_loss: 87.0879 - val_mean_absolute_error: 6.9242\n"
          ],
          "name": "stdout"
        }
      ]
    },
    {
      "cell_type": "markdown",
      "metadata": {
        "id": "AXazig7Z4OAZ",
        "colab_type": "text"
      },
      "source": [
        "## Step 6: Check the learning curves"
      ]
    },
    {
      "cell_type": "code",
      "metadata": {
        "id": "RnW-bBHK4Rcm",
        "colab_type": "code",
        "colab": {
          "base_uri": "https://localhost:8080/",
          "height": 283
        },
        "outputId": "872d7b30-d934-4887-c51c-3a01aa0bd09b"
      },
      "source": [
        "plt.plot(history.history['mean_absolute_error'])\n",
        "plt.plot(history.history['val_mean_absolute_error'])\n",
        "plt.ylabel('mean absolute error')\n",
        "plt.xlabel('epoch')\n",
        "plt.legend(['train', 'validation'], loc='upper right')\n",
        "plt.show()"
      ],
      "execution_count": 7,
      "outputs": [
        {
          "output_type": "display_data",
          "data": {
            "image/png": "[encoded data removed]",
            "text/plain": [
              "<Figure size 432x288 with 1 Axes>"
            ]
          },
          "metadata": {
            "tags": []
          }
        }
      ]
    },
    {
      "cell_type": "code",
      "metadata": {
        "id": "KHYpG8I35P8E",
        "colab_type": "code",
        "colab": {
          "base_uri": "https://localhost:8080/",
          "height": 283
        },
        "outputId": "0bc1a3e1-6480-491a-ccd2-fb9b9cc505dd"
      },
      "source": [
        "plt.plot(history.history['mean_absolute_error'])\n",
        "plt.plot(history.history['val_mean_absolute_error'])\n",
        "plt.ylabel('mean absolute error')\n",
        "plt.ylim(5, 15)\n",
        "plt.xlabel('epoch')\n",
        "plt.legend(['train', 'validation'], loc='upper right')\n",
        "plt.show()"
      ],
      "execution_count": 8,
      "outputs": [
        {
          "output_type": "display_data",
          "data": {
            "image/png": "[encoded data removed]",
            "text/plain": [
              "<Figure size 432x288 with 1 Axes>"
            ]
          },
          "metadata": {
            "tags": []
          }
        }
      ]
    },
    {
      "cell_type": "markdown",
      "metadata": {
        "id": "h-cH0cXR6auk",
        "colab_type": "text"
      },
      "source": [
        "**Should we train more?** When to stop?"
      ]
    },
    {
      "cell_type": "markdown",
      "metadata": {
        "id": "bKiUus2cxwUM",
        "colab_type": "text"
      },
      "source": [
        "## Step 7: Evaluate on validation set"
      ]
    },
    {
      "cell_type": "code",
      "metadata": {
        "id": "4AdOsks3xwUN",
        "colab_type": "code",
        "outputId": "a0c35aa2-6e67-4475-b23b-8ec24718c118",
        "colab": {
          "base_uri": "https://localhost:8080/",
          "height": 67
        }
      },
      "source": [
        "scores = model.evaluate(XVALIDATION, YVALIDATION)\n",
        "print(\"\\n%s: %.2f\" % (model.metrics_names[1], scores[1]))"
      ],
      "execution_count": 9,
      "outputs": [
        {
          "output_type": "stream",
          "text": [
            "68/68 [==============================] - 0s 90us/step\n",
            "\n",
            "mean_absolute_error: 6.92\n"
          ],
          "name": "stdout"
        }
      ]
    },
    {
      "cell_type": "markdown",
      "metadata": {
        "id": "LcvxStrUxwUS",
        "colab_type": "text"
      },
      "source": [
        "## Step 8: Assess Predictions"
      ]
    },
    {
      "cell_type": "code",
      "metadata": {
        "id": "_yu6sxhTxwUU",
        "colab_type": "code",
        "outputId": "2af0245d-6410-4652-8b15-d00730d1b62a",
        "colab": {
          "base_uri": "https://localhost:8080/",
          "height": 118
        }
      },
      "source": [
        "print(YVALIDATION[0:5])\n",
        "\n",
        "prediction = model.predict(XVALIDATION)\n",
        "\n",
        "print(prediction[0:5])"
      ],
      "execution_count": 10,
      "outputs": [
        {
          "output_type": "stream",
          "text": [
            "[26.00 49.00 52.00 41.00 27.00]\n",
            "[[24.37]\n",
            " [36.70]\n",
            " [31.77]\n",
            " [35.25]\n",
            " [30.22]]\n"
          ],
          "name": "stdout"
        }
      ]
    },
    {
      "cell_type": "code",
      "metadata": {
        "id": "vYKKA1JfxwUk",
        "colab_type": "code",
        "colab": {
          "base_uri": "https://localhost:8080/",
          "height": 283
        },
        "outputId": "4835bed3-d410-40f9-f100-b4d8ab283598"
      },
      "source": [
        "plt.plot(YVALIDATION, prediction, '.')\n",
        "plt.xlabel('Correct values')\n",
        "plt.ylabel('Predictions')\n",
        "plt.show()"
      ],
      "execution_count": 11,
      "outputs": [
        {
          "output_type": "display_data",
          "data": {
            "image/png": "[encoded data removed]",
            "text/plain": [
              "<Figure size 432x288 with 1 Axes>"
            ]
          },
          "metadata": {
            "tags": []
          }
        }
      ]
    },
    {
      "cell_type": "markdown",
      "metadata": {
        "id": "q7afJAqa0-NW",
        "colab_type": "text"
      },
      "source": [
        "## Step 9: Calculate MAE & MSE"
      ]
    },
    {
      "cell_type": "code",
      "metadata": {
        "id": "9qOCQMmL9axc",
        "colab_type": "code",
        "colab": {
          "base_uri": "https://localhost:8080/",
          "height": 34
        },
        "outputId": "f70bd809-d5f2-46a8-c147-fe8c2fd94c2c"
      },
      "source": [
        "mae = mean_absolute_error(YVALIDATION, prediction)\n",
        "print(mae)"
      ],
      "execution_count": 12,
      "outputs": [
        {
          "output_type": "stream",
          "text": [
            "6.924213493571562\n"
          ],
          "name": "stdout"
        }
      ]
    },
    {
      "cell_type": "code",
      "metadata": {
        "id": "-Cm15FUf1CKI",
        "colab_type": "code",
        "colab": {
          "base_uri": "https://localhost:8080/",
          "height": 34
        },
        "outputId": "6317a067-ae65-4f2c-871d-0da51325bdfc"
      },
      "source": [
        "mse = mean_squared_error(YVALIDATION, prediction)\n",
        "print(mse)"
      ],
      "execution_count": 13,
      "outputs": [
        {
          "output_type": "stream",
          "text": [
            "87.08791568947521\n"
          ],
          "name": "stdout"
        }
      ]
    },
    {
      "cell_type": "markdown",
      "metadata": {
        "id": "GsxLqPQ_1w9q",
        "colab_type": "text"
      },
      "source": [
        "## How can the performance be improved?  \n",
        "* Increase the number of epochs to 100 or 150 \n",
        "* Add more layers into the neural networks \n",
        "* Use other loss functions such as mean_squared_logarithmic_error; see [keras losses](https://keras.io/losses/)"
      ]
    },
    {
      "cell_type": "code",
      "metadata": {
        "id": "0xVB9JtH3oiL",
        "colab_type": "code",
        "colab": {}
      },
      "source": [
        ""
      ],
      "execution_count": 0,
      "outputs": []
    }
  ]
}