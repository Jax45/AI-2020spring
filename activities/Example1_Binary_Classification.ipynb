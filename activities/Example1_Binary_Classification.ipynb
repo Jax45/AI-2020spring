{
  "nbformat": 4,
  "nbformat_minor": 0,
  "metadata": {
    "colab": {
      "name": "Example1_Binary_Classification.ipynb",
      "version": "0.3.2",
      "provenance": [],
      "collapsed_sections": [],
      "include_colab_link": true
    },
    "kernelspec": {
      "display_name": "Python 3",
      "language": "python",
      "name": "python3"
    }
  },
  "cells": [
    {
      "cell_type": "markdown",
      "metadata": {
        "id": "view-in-github",
        "colab_type": "text"
      },
      "source": [
        "<a href=\"https://colab.research.google.com/github/badriadhikari/2019-Fall-AI/blob/master/MODULE-I/Example1_Binary_Classification.ipynb\" target=\"_parent\"><img src=\"https://colab.research.google.com/assets/colab-badge.svg\" alt=\"Open In Colab\"/></a>"
      ]
    },
    {
      "cell_type": "markdown",
      "metadata": {
        "id": "7kUj8gFFxwTZ",
        "colab_type": "text"
      },
      "source": [
        "# Example 1: Binary Classification\n",
        "* We would like to predict the 'onset of diabetes' based on diagnostic measures (The Pima Indians Diabetes Database) \n",
        "* Dataset: [rawdata](https://raw.githubusercontent.com/badriadhikari/2019-Fall-AI/master/MODULE-I/pima-indians-diabetes.data.csv) and [Reference](https://www.kaggle.com/uciml/pima-indians-diabetes-database)"
      ]
    },
    {
      "cell_type": "markdown",
      "metadata": {
        "id": "2n2UFLYnyNzs",
        "colab_type": "text"
      },
      "source": [
        "## Step 1: Test libraries"
      ]
    },
    {
      "cell_type": "code",
      "metadata": {
        "id": "X2Z70wjAxwTd",
        "colab_type": "code",
        "outputId": "4526e336-fdf8-43d3-ffc9-566fe468903a",
        "colab": {
          "base_uri": "https://localhost:8080/",
          "height": 34
        }
      },
      "source": [
        "from keras.models import Sequential\n",
        "from keras.layers import Dense\n",
        "import matplotlib.pyplot as plt\n",
        "from sklearn.metrics import accuracy_score, precision_score, recall_score, f1_score\n",
        "import numpy as np"
      ],
      "execution_count": 1,
      "outputs": [
        {
          "output_type": "stream",
          "text": [
            "Using TensorFlow backend.\n"
          ],
          "name": "stderr"
        }
      ]
    },
    {
      "cell_type": "markdown",
      "metadata": {
        "id": "NCf94zhzxwTk",
        "colab_type": "text"
      },
      "source": [
        "## Step 2: Load the data "
      ]
    },
    {
      "cell_type": "code",
      "metadata": {
        "id": "Ekgp7YlexwTl",
        "colab_type": "code",
        "outputId": "2eea9507-f3a3-42a2-d70b-ca3fe1c05e76",
        "colab": {
          "base_uri": "https://localhost:8080/",
          "height": 34
        }
      },
      "source": [
        "# load pima indians dataset\n",
        "dataset = np.loadtxt(\"https://raw.githubusercontent.com/badriadhikari/2019-Fall-AI/master/MODULE-I/pima-indians-diabetes.data.csv\", delimiter=\",\")\n",
        "print(dataset.shape)"
      ],
      "execution_count": 2,
      "outputs": [
        {
          "output_type": "stream",
          "text": [
            "(768, 9)\n"
          ],
          "name": "stdout"
        }
      ]
    },
    {
      "cell_type": "markdown",
      "metadata": {
        "id": "hv4sod7ZoKcE",
        "colab_type": "text"
      },
      "source": [
        "### Questions:\n",
        "* How many rows and columns does the data have?\n",
        "* How to load a dataset that has non-numbers?"
      ]
    },
    {
      "cell_type": "markdown",
      "metadata": {
        "id": "qPNA5gq4zY3b",
        "colab_type": "text"
      },
      "source": [
        "## Step 3: Preview the first 5 rows\n",
        "`dataset[0:5, :]` means 'Rows 0 to 4 with all columns'"
      ]
    },
    {
      "cell_type": "code",
      "metadata": {
        "id": "u1SHBcPAzdPA",
        "colab_type": "code",
        "outputId": "f3bcd0e1-9e28-47b7-cbcb-ff700ce75a6c",
        "colab": {
          "base_uri": "https://localhost:8080/",
          "height": 101
        }
      },
      "source": [
        "np.set_printoptions(formatter={'float': lambda x: \"{0:0.2f}\".format(x)})\n",
        "\n",
        "print(dataset[0:5, :])"
      ],
      "execution_count": 3,
      "outputs": [
        {
          "output_type": "stream",
          "text": [
            "[[6.00 148.00 72.00 35.00 0.00 33.60 0.63 50.00 1.00]\n",
            " [1.00 85.00 66.00 29.00 0.00 26.60 0.35 31.00 0.00]\n",
            " [8.00 183.00 64.00 0.00 0.00 23.30 0.67 32.00 1.00]\n",
            " [1.00 89.00 66.00 23.00 94.00 28.10 0.17 21.00 0.00]\n",
            " [0.00 137.00 40.00 35.00 168.00 43.10 2.29 33.00 1.00]]\n"
          ],
          "name": "stdout"
        }
      ]
    },
    {
      "cell_type": "markdown",
      "metadata": {
        "id": "0Tawem2fxwTo",
        "colab_type": "text"
      },
      "source": [
        "## Step 4: Split into Training/Validation Set\n",
        "* Training Set (first 700 rows) and Validation Set (remaining 68 rows) \n",
        "* The first 8 columns (0 to 7) are our features used as input to the model \n",
        "* The last column (8) is the true label (diabetes or not) or the ground truth "
      ]
    },
    {
      "cell_type": "code",
      "metadata": {
        "id": "ei1fSHBJxwTp",
        "colab_type": "code",
        "colab": {}
      },
      "source": [
        "XTRAIN = dataset[:700,0:8]\n",
        "YTRAIN = dataset[:700,8]\n",
        "XVALIDATION = dataset[700:,0:8]\n",
        "YVALIDATION = dataset[700:,8]"
      ],
      "execution_count": 0,
      "outputs": []
    },
    {
      "cell_type": "markdown",
      "metadata": {
        "id": "g3kmFFjToNTa",
        "colab_type": "text"
      },
      "source": [
        "### Questions:\n",
        "* What is our input and output?  \n",
        "* Why \"0:8\" in X and \"8\" in Y?"
      ]
    },
    {
      "cell_type": "markdown",
      "metadata": {
        "id": "ATsB4EuFob8c",
        "colab_type": "text"
      },
      "source": [
        "## Step 5: Normalize (if needed)"
      ]
    },
    {
      "cell_type": "code",
      "metadata": {
        "id": "1vdPWvlaqgL4",
        "colab_type": "code",
        "colab": {
          "base_uri": "https://localhost:8080/",
          "height": 521
        },
        "outputId": "856bec8e-0a07-4f1f-cd8e-acaacffa13f4"
      },
      "source": [
        "plt.hist(XTRAIN[:, 0])\n",
        "plt.ylabel('0th Column (pregnancy)')\n",
        "plt.show()\n",
        "\n",
        "plt.hist(XTRAIN[:, 1])\n",
        "plt.ylabel('1st Column (Glocose)')\n",
        "plt.show()"
      ],
      "execution_count": 5,
      "outputs": [
        {
          "output_type": "display_data",
          "data": {
            "image/png": "[encoded data removed]",
            "text/plain": [
              "<Figure size 432x288 with 1 Axes>"
            ]
          },
          "metadata": {
            "tags": []
          }
        },
        {
          "output_type": "display_data",
          "data": {
            "image/png": "[encoded data removed]",
            "text/plain": [
              "<Figure size 432x288 with 1 Axes>"
            ]
          },
          "metadata": {
            "tags": []
          }
        }
      ]
    },
    {
      "cell_type": "code",
      "metadata": {
        "id": "2Vl2Y05rrlkO",
        "colab_type": "code",
        "colab": {
          "base_uri": "https://localhost:8080/",
          "height": 269
        },
        "outputId": "38f22b2b-ab8d-42e0-a329-0f94cf67fbfb"
      },
      "source": [
        "plt.hist(YTRAIN)\n",
        "plt.ylabel('Output labels')\n",
        "plt.show()"
      ],
      "execution_count": 6,
      "outputs": [
        {
          "output_type": "display_data",
          "data": {
            "image/png": "[encoded data removed]",
            "text/plain": [
              "<Figure size 432x288 with 1 Axes>"
            ]
          },
          "metadata": {
            "tags": []
          }
        }
      ]
    },
    {
      "cell_type": "code",
      "metadata": {
        "id": "r66Oy-sPobOH",
        "colab_type": "code",
        "colab": {}
      },
      "source": [
        "mean = XTRAIN.mean(axis=0)\n",
        "XTRAIN -= mean\n",
        "std = XTRAIN.std(axis=0)\n",
        "XTRAIN /= std\n",
        "\n",
        "XVALIDATION -= mean\n",
        "XVALIDATION /= std"
      ],
      "execution_count": 0,
      "outputs": []
    },
    {
      "cell_type": "code",
      "metadata": {
        "id": "WtWm3Jk2sAGW",
        "colab_type": "code",
        "colab": {
          "base_uri": "https://localhost:8080/",
          "height": 50
        },
        "outputId": "cabbdce5-d3f8-4aae-8433-2e52a9b708df"
      },
      "source": [
        "print(mean)\n",
        "print(std)"
      ],
      "execution_count": 8,
      "outputs": [
        {
          "output_type": "stream",
          "text": [
            "[3.83 120.54 68.88 20.38 79.88 31.89 0.48 33.12]\n",
            "[3.36 32.19 19.53 16.02 115.51 7.94 0.34 11.78]\n"
          ],
          "name": "stdout"
        }
      ]
    },
    {
      "cell_type": "code",
      "metadata": {
        "id": "E3qBMMnEsKmP",
        "colab_type": "code",
        "colab": {
          "base_uri": "https://localhost:8080/",
          "height": 269
        },
        "outputId": "a437aedf-a6a3-4c63-c57f-c50a680748b0"
      },
      "source": [
        "plt.hist(XTRAIN[:, 0])\n",
        "plt.ylabel('0th Column (pregnancy)')\n",
        "plt.show()"
      ],
      "execution_count": 9,
      "outputs": [
        {
          "output_type": "display_data",
          "data": {
            "image/png": "[encoded data removed]",
            "text/plain": [
              "<Figure size 432x288 with 1 Axes>"
            ]
          },
          "metadata": {
            "tags": []
          }
        }
      ]
    },
    {
      "cell_type": "markdown",
      "metadata": {
        "id": "_1TpDX4H4c43",
        "colab_type": "text"
      },
      "source": [
        "## Step 6: Review the dimensions of training & validation set\n",
        "**Also preview some of the \"input features\" and \"correct labels\" for the datasets**"
      ]
    },
    {
      "cell_type": "code",
      "metadata": {
        "id": "Ktv3rFpVxwTs",
        "colab_type": "code",
        "outputId": "b28fede0-540e-48ed-9503-b94ffba92465",
        "colab": {
          "base_uri": "https://localhost:8080/",
          "height": 218
        }
      },
      "source": [
        "print(XTRAIN.shape)\n",
        "print(YTRAIN.shape)\n",
        "print(XVALIDATION.shape)\n",
        "print(YVALIDATION.shape)\n",
        "print(XTRAIN[0:3,])\n",
        "print(YTRAIN[0:3])\n",
        "print(XVALIDATION[0:3,])\n",
        "print(YVALIDATION[0:3])"
      ],
      "execution_count": 10,
      "outputs": [
        {
          "output_type": "stream",
          "text": [
            "(700, 8)\n",
            "(700,)\n",
            "(68, 8)\n",
            "(68,)\n",
            "[[0.65 0.85 0.16 0.91 -0.69 0.22 0.45 1.43]\n",
            " [-0.84 -1.10 -0.15 0.54 -0.69 -0.67 -0.37 -0.18]\n",
            " [1.24 1.94 -0.25 -1.27 -0.69 -1.08 0.58 -0.10]]\n",
            "[1.00 0.00 1.00]\n",
            "[[-0.54 0.05 0.36 0.41 1.04 0.50 0.02 -0.60]\n",
            " [0.65 0.14 0.47 0.66 -0.69 -0.54 0.26 1.35]\n",
            " [-0.84 1.47 0.98 0.54 -0.69 0.39 1.27 1.60]]\n",
            "[0.00 1.00 1.00]\n"
          ],
          "name": "stdout"
        }
      ]
    },
    {
      "cell_type": "markdown",
      "metadata": {
        "id": "-3DxGlB2xwTv",
        "colab_type": "text"
      },
      "source": [
        "## Step 7: Create a neural network model\n",
        "A network with 12 neurons in layer 1, 8 neurons in layer 2, and 1 neuron as the last layer"
      ]
    },
    {
      "cell_type": "code",
      "metadata": {
        "id": "FhRrPhElxwTw",
        "colab_type": "code",
        "outputId": "875f31a2-3910-4862-b2b6-a81a07853c96",
        "colab": {
          "base_uri": "https://localhost:8080/",
          "height": 390
        }
      },
      "source": [
        "model = Sequential()\n",
        "model.add(Dense(12, input_dim=8, activation='relu'))\n",
        "model.add(Dense(8, activation='relu'))\n",
        "model.add(Dense(1, activation='sigmoid'))\n",
        "print(model.summary())"
      ],
      "execution_count": 11,
      "outputs": [
        {
          "output_type": "stream",
          "text": [
            "WARNING:tensorflow:From /usr/local/lib/python3.6/dist-packages/keras/backend/tensorflow_backend.py:66: The name tf.get_default_graph is deprecated. Please use tf.compat.v1.get_default_graph instead.\n",
            "\n",
            "WARNING:tensorflow:From /usr/local/lib/python3.6/dist-packages/keras/backend/tensorflow_backend.py:541: The name tf.placeholder is deprecated. Please use tf.compat.v1.placeholder instead.\n",
            "\n",
            "WARNING:tensorflow:From /usr/local/lib/python3.6/dist-packages/keras/backend/tensorflow_backend.py:4432: The name tf.random_uniform is deprecated. Please use tf.random.uniform instead.\n",
            "\n",
            "Model: \"sequential_1\"\n",
            "_________________________________________________________________\n",
            "Layer (type)                 Output Shape              Param #   \n",
            "=================================================================\n",
            "dense_1 (Dense)              (None, 12)                108       \n",
            "_________________________________________________________________\n",
            "dense_2 (Dense)              (None, 8)                 104       \n",
            "_________________________________________________________________\n",
            "dense_3 (Dense)              (None, 1)                 9         \n",
            "=================================================================\n",
            "Total params: 221\n",
            "Trainable params: 221\n",
            "Non-trainable params: 0\n",
            "_________________________________________________________________\n",
            "None\n"
          ],
          "name": "stdout"
        }
      ]
    },
    {
      "cell_type": "markdown",
      "metadata": {
        "id": "xanb3tlopBCs",
        "colab_type": "text"
      },
      "source": [
        "### Questions: \n",
        "* Why is `input_dim = 8`?\n",
        "* Can '8' be replaced with `X[0, :]`?"
      ]
    },
    {
      "cell_type": "markdown",
      "metadata": {
        "id": "OJhrMV9xxwT4",
        "colab_type": "text"
      },
      "source": [
        "## Step 8: Compile the model\n",
        "Check if there are any cycles in the Sequential model"
      ]
    },
    {
      "cell_type": "code",
      "metadata": {
        "id": "jWYDiRrhxwT6",
        "colab_type": "code",
        "colab": {
          "base_uri": "https://localhost:8080/",
          "height": 154
        },
        "outputId": "8432e46a-970b-435b-b8e6-a88cce5790d9"
      },
      "source": [
        "model.compile(loss='binary_crossentropy', optimizer='adam', metrics=['accuracy'])"
      ],
      "execution_count": 12,
      "outputs": [
        {
          "output_type": "stream",
          "text": [
            "WARNING:tensorflow:From /usr/local/lib/python3.6/dist-packages/keras/optimizers.py:793: The name tf.train.Optimizer is deprecated. Please use tf.compat.v1.train.Optimizer instead.\n",
            "\n",
            "WARNING:tensorflow:From /usr/local/lib/python3.6/dist-packages/keras/backend/tensorflow_backend.py:3657: The name tf.log is deprecated. Please use tf.math.log instead.\n",
            "\n",
            "WARNING:tensorflow:From /usr/local/lib/python3.6/dist-packages/tensorflow/python/ops/nn_impl.py:180: add_dispatch_support.<locals>.wrapper (from tensorflow.python.ops.array_ops) is deprecated and will be removed in a future version.\n",
            "Instructions for updating:\n",
            "Use tf.where in 2.0, which has the same broadcast rule as np.where\n"
          ],
          "name": "stdout"
        }
      ]
    },
    {
      "cell_type": "markdown",
      "metadata": {
        "id": "MlPJMFYAxwT8",
        "colab_type": "text"
      },
      "source": [
        "## Step 9: Train the model\n",
        "* We feed `XTRAIN` into the model and the model calculates errors using `YTRAIN`\n",
        "* In one epoch the model scans through the entire rows in the `XTRAIN`\n",
        "* Updating the number of epochs usually increases the accuracy of the model\n",
        "* To observe the accuracy on the `VALIDATION` data during the training, add `validation_data = (XTEST, YTEST)`"
      ]
    },
    {
      "cell_type": "code",
      "metadata": {
        "id": "dytoL_9SxwT9",
        "colab_type": "code",
        "outputId": "97394262-4bc5-4bb1-9e2f-323f63793aa0",
        "colab": {
          "base_uri": "https://localhost:8080/",
          "height": 591
        }
      },
      "source": [
        "model.fit(XTRAIN, YTRAIN, epochs=15, batch_size=10)"
      ],
      "execution_count": 13,
      "outputs": [
        {
          "output_type": "stream",
          "text": [
            "WARNING:tensorflow:From /usr/local/lib/python3.6/dist-packages/keras/backend/tensorflow_backend.py:1033: The name tf.assign_add is deprecated. Please use tf.compat.v1.assign_add instead.\n",
            "\n",
            "Epoch 1/15\n",
            "700/700 [==============================] - 0s 418us/step - loss: 0.6701 - acc: 0.6557\n",
            "Epoch 2/15\n",
            "700/700 [==============================] - 0s 107us/step - loss: 0.6022 - acc: 0.6914\n",
            "Epoch 3/15\n",
            "700/700 [==============================] - 0s 109us/step - loss: 0.5548 - acc: 0.7100\n",
            "Epoch 4/15\n",
            "700/700 [==============================] - 0s 113us/step - loss: 0.5220 - acc: 0.7271\n",
            "Epoch 5/15\n",
            "700/700 [==============================] - 0s 120us/step - loss: 0.5010 - acc: 0.7486\n",
            "Epoch 6/15\n",
            "700/700 [==============================] - 0s 125us/step - loss: 0.4880 - acc: 0.7586\n",
            "Epoch 7/15\n",
            "700/700 [==============================] - 0s 121us/step - loss: 0.4790 - acc: 0.7600\n",
            "Epoch 8/15\n",
            "700/700 [==============================] - 0s 119us/step - loss: 0.4725 - acc: 0.7686\n",
            "Epoch 9/15\n",
            "700/700 [==============================] - 0s 129us/step - loss: 0.4665 - acc: 0.7714\n",
            "Epoch 10/15\n",
            "700/700 [==============================] - 0s 142us/step - loss: 0.4625 - acc: 0.7814\n",
            "Epoch 11/15\n",
            "700/700 [==============================] - 0s 124us/step - loss: 0.4591 - acc: 0.7786\n",
            "Epoch 12/15\n",
            "700/700 [==============================] - 0s 126us/step - loss: 0.4559 - acc: 0.7786\n",
            "Epoch 13/15\n",
            "700/700 [==============================] - 0s 145us/step - loss: 0.4537 - acc: 0.7757\n",
            "Epoch 14/15\n",
            "700/700 [==============================] - 0s 123us/step - loss: 0.4515 - acc: 0.7814\n",
            "Epoch 15/15\n",
            "700/700 [==============================] - 0s 130us/step - loss: 0.4501 - acc: 0.7800\n"
          ],
          "name": "stdout"
        },
        {
          "output_type": "execute_result",
          "data": {
            "text/plain": [
              "<keras.callbacks.History at 0x7f20fae1e908>"
            ]
          },
          "metadata": {
            "tags": []
          },
          "execution_count": 13
        }
      ]
    },
    {
      "cell_type": "markdown",
      "metadata": {
        "id": "FpNRAdsAxwUC",
        "colab_type": "text"
      },
      "source": [
        "## Step 10: Evaluate the model on the training data\n",
        "Yes, the same data we used to train the model"
      ]
    },
    {
      "cell_type": "code",
      "metadata": {
        "id": "iXE5jrkWxwUC",
        "colab_type": "code",
        "outputId": "b6bbc56b-90fa-40a6-d03a-c28c677db37c",
        "colab": {
          "base_uri": "https://localhost:8080/",
          "height": 101
        }
      },
      "source": [
        "scores = model.evaluate(XTRAIN, YTRAIN)\n",
        "print(model.metrics_names)\n",
        "print(scores)\n",
        "print(\"\\n%s: %.2f%%\" % (model.metrics_names[1], scores[1]*100))"
      ],
      "execution_count": 14,
      "outputs": [
        {
          "output_type": "stream",
          "text": [
            "700/700 [==============================] - 0s 67us/step\n",
            "['loss', 'acc']\n",
            "[0.44608610732214793, 0.7771428571428571]\n",
            "\n",
            "acc: 77.71%\n"
          ],
          "name": "stdout"
        }
      ]
    },
    {
      "cell_type": "markdown",
      "metadata": {
        "id": "bKiUus2cxwUM",
        "colab_type": "text"
      },
      "source": [
        "## Step 11: Evaluate on validation set\n",
        "* This is a real test of the model\n",
        "* We will evaluate the model on the \"Unknown\" dataset (i.e. validation dataset)"
      ]
    },
    {
      "cell_type": "code",
      "metadata": {
        "id": "4AdOsks3xwUN",
        "colab_type": "code",
        "outputId": "a775c2ba-730e-4bad-841b-7d3ee2516483",
        "colab": {
          "base_uri": "https://localhost:8080/",
          "height": 67
        }
      },
      "source": [
        "scores = model.evaluate(XVALIDATION, YVALIDATION)\n",
        "print(\"\\n%s: %.2f%%\" % (model.metrics_names[1], scores[1]*100))"
      ],
      "execution_count": 15,
      "outputs": [
        {
          "output_type": "stream",
          "text": [
            "68/68 [==============================] - 0s 80us/step\n",
            "\n",
            "acc: 82.35%\n"
          ],
          "name": "stdout"
        }
      ]
    },
    {
      "cell_type": "markdown",
      "metadata": {
        "id": "LcvxStrUxwUS",
        "colab_type": "text"
      },
      "source": [
        "## Step 12: Check what what the model actually predicts\n",
        "* An example of what the model has predicted and comparison with the true classes"
      ]
    },
    {
      "cell_type": "code",
      "metadata": {
        "id": "_yu6sxhTxwUU",
        "colab_type": "code",
        "outputId": "c2f37e42-65ed-463c-c0a0-01c7d07527c3",
        "colab": {
          "base_uri": "https://localhost:8080/",
          "height": 118
        }
      },
      "source": [
        "print(XVALIDATION[0:5])\n",
        "print(YVALIDATION[0:5])"
      ],
      "execution_count": 16,
      "outputs": [
        {
          "output_type": "stream",
          "text": [
            "[[-0.54 0.05 0.36 0.41 1.04 0.50 0.02 -0.60]\n",
            " [0.65 0.14 0.47 0.66 -0.69 -0.54 0.26 1.35]\n",
            " [-0.84 1.47 0.98 0.54 -0.69 0.39 1.27 1.60]\n",
            " [-0.54 0.26 -3.53 -1.27 -0.69 0.83 -0.51 0.67]\n",
            " [0.05 -0.33 0.36 -0.02 0.17 -0.44 -1.06 -0.52]]\n",
            "[0.00 1.00 1.00 0.00 0.00]\n"
          ],
          "name": "stdout"
        }
      ]
    },
    {
      "cell_type": "code",
      "metadata": {
        "id": "vYKKA1JfxwUk",
        "colab_type": "code",
        "colab": {}
      },
      "source": [
        "prediction = model.predict(XVALIDATION)"
      ],
      "execution_count": 0,
      "outputs": []
    },
    {
      "cell_type": "code",
      "metadata": {
        "id": "krXuEXj8xwUn",
        "colab_type": "code",
        "outputId": "66c80fc1-24c9-42f7-93b6-0e169c7c22b1",
        "colab": {
          "base_uri": "https://localhost:8080/",
          "height": 101
        }
      },
      "source": [
        "print(prediction[0:5])"
      ],
      "execution_count": 18,
      "outputs": [
        {
          "output_type": "stream",
          "text": [
            "[[0.31]\n",
            " [0.40]\n",
            " [0.80]\n",
            " [0.69]\n",
            " [0.12]]\n"
          ],
          "name": "stdout"
        }
      ]
    },
    {
      "cell_type": "code",
      "metadata": {
        "id": "Xg7sUMwcxwUp",
        "colab_type": "code",
        "outputId": "09f8e346-ae85-47ff-e2bd-0c39b4a08bce",
        "colab": {
          "base_uri": "https://localhost:8080/",
          "height": 101
        }
      },
      "source": [
        "print(prediction[0:5].round())"
      ],
      "execution_count": 19,
      "outputs": [
        {
          "output_type": "stream",
          "text": [
            "[[0.00]\n",
            " [0.00]\n",
            " [1.00]\n",
            " [1.00]\n",
            " [0.00]]\n"
          ],
          "name": "stdout"
        }
      ]
    },
    {
      "cell_type": "code",
      "metadata": {
        "id": "j_oeM8FpsxUZ",
        "colab_type": "code",
        "colab": {
          "base_uri": "https://localhost:8080/",
          "height": 283
        },
        "outputId": "afe380b5-8eb1-4c52-b930-0afae8153af1"
      },
      "source": [
        "plt.plot(YVALIDATION, prediction, '.')\n",
        "plt.xlabel('Correct labels')\n",
        "plt.ylabel('Predicted confidence scores')\n",
        "plt.show()"
      ],
      "execution_count": 20,
      "outputs": [
        {
          "output_type": "display_data",
          "data": {
            "image/png": "[encoded data removed]",
            "text/plain": [
              "<Figure size 432x288 with 1 Axes>"
            ]
          },
          "metadata": {
            "tags": []
          }
        }
      ]
    },
    {
      "cell_type": "markdown",
      "metadata": {
        "id": "rbZgrutwxwUr",
        "colab_type": "text"
      },
      "source": [
        "## Step 13: Is 'accuracy' sufficient to evaluate our model?\n",
        "* We can further evaluate the model using precision, recall, and F1-score"
      ]
    },
    {
      "cell_type": "code",
      "metadata": {
        "id": "ScjNBZNYxwUw",
        "colab_type": "code",
        "outputId": "e1e8aa9c-64b7-459d-f2d9-7b93e43c4a02",
        "colab": {
          "base_uri": "https://localhost:8080/",
          "height": 84
        }
      },
      "source": [
        "accuracy = accuracy_score(YVALIDATION, prediction.round())\n",
        "precision = precision_score(YVALIDATION, prediction.round())\n",
        "recall = recall_score(YVALIDATION, prediction.round())\n",
        "f1score = f1_score(YVALIDATION, prediction.round())\n",
        "print(\"Accuracy: %.2f%%\" % (accuracy * 100.0))\n",
        "print(\"Precision: %.2f%%\" % (precision * 100.0))\n",
        "print(\"Recall: %.2f%%\" % (recall * 100.0))\n",
        "print(\"F1-score: %.2f\" % (f1score))"
      ],
      "execution_count": 21,
      "outputs": [
        {
          "output_type": "stream",
          "text": [
            "Accuracy: 82.35%\n",
            "Precision: 85.71%\n",
            "Recall: 66.67%\n",
            "F1-score: 0.75\n"
          ],
          "name": "stdout"
        }
      ]
    },
    {
      "cell_type": "markdown",
      "metadata": {
        "id": "qAIlkVsu8-TW",
        "colab_type": "text"
      },
      "source": [
        "## Step 14: How can the performance be improved?  \n",
        "* Increase the number of epochs to 100 or 150 \n",
        "* Add more layers into the neural networks \n",
        "* Increase/Decrease the number of rows in the training/validation set"
      ]
    },
    {
      "cell_type": "code",
      "metadata": {
        "id": "9qOCQMmL9axc",
        "colab_type": "code",
        "colab": {}
      },
      "source": [
        ""
      ],
      "execution_count": 0,
      "outputs": []
    }
  ]
}