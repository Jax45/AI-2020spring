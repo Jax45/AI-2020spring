{
  "nbformat": 4,
  "nbformat_minor": 0,
  "metadata": {
    "colab": {
      "name": "Univariate_Linear_Regression.ipynb",
      "version": "0.3.2",
      "provenance": [],
      "collapsed_sections": [],
      "include_colab_link": true
    },
    "kernelspec": {
      "name": "python3",
      "display_name": "Python 3"
    }
  },
  "cells": [
    {
      "cell_type": "markdown",
      "metadata": {
        "id": "view-in-github",
        "colab_type": "text"
      },
      "source": [
        "<a href=\"https://colab.research.google.com/github/badriadhikari/2019-Fall-AI/blob/master/Univariate_Linear_Regression.ipynb\" target=\"_parent\"><img src=\"https://colab.research.google.com/assets/colab-badge.svg\" alt=\"Open In Colab\"/></a>"
      ]
    },
    {
      "cell_type": "markdown",
      "metadata": {
        "id": "_4VxYIZHrdhP",
        "colab_type": "text"
      },
      "source": [
        "###Univariate Linear Regression  \n",
        "* We would like to predict \"sepal width\" using \"sepal length\" on the Iris Flower Dataset   \n",
        "* Dataset: [rawdata](https://raw.githubusercontent.com/badriadhikari/2019-Fall-AI/master/MODULE-I/iris.data) and [metadata](https://raw.githubusercontent.com/badriadhikari/2019-Fall-AI/master/MODULE-I/iris.names)\n"
      ]
    },
    {
      "cell_type": "code",
      "metadata": {
        "id": "X2Z70wjAxwTd",
        "colab_type": "code",
        "outputId": "9f8fc653-5083-4934-a125-362292c260a7",
        "colab": {
          "base_uri": "https://localhost:8080/",
          "height": 35
        }
      },
      "source": [
        "from keras.models import Sequential\n",
        "from keras.layers import Dense\n",
        "import numpy as np\n",
        "import matplotlib.pyplot as plt"
      ],
      "execution_count": 1,
      "outputs": [
        {
          "output_type": "stream",
          "text": [
            "Using TensorFlow backend.\n"
          ],
          "name": "stderr"
        }
      ]
    },
    {
      "cell_type": "code",
      "metadata": {
        "id": "8PIlC1EOlt-j",
        "colab_type": "code",
        "colab": {
          "base_uri": "https://localhost:8080/",
          "height": 156
        },
        "outputId": "ac86011e-ab6f-40bd-894e-d37a67f018ac"
      },
      "source": [
        "datapath = 'https://raw.githubusercontent.com/badriadhikari/2019-Fall-AI/master/MODULE-I/iris.data'\n",
        "\n",
        "# Column 1. sepal length in cm (load as col 0)\n",
        "# Column 2. petal length in cm (load as col 1)\n",
        "# Use loadtxt instead when there are non-numeric values as well\n",
        "dataset = np.genfromtxt(datapath, delimiter=\",\", usecols=(0, 2)) \n",
        "\n",
        "print('')\n",
        "print(dataset.shape)\n",
        "print('')\n",
        "print(dataset[0:5])"
      ],
      "execution_count": 2,
      "outputs": [
        {
          "output_type": "stream",
          "text": [
            "\n",
            "(150, 2)\n",
            "\n",
            "[[5.1 1.4]\n",
            " [4.9 1.4]\n",
            " [4.7 1.3]\n",
            " [4.6 1.5]\n",
            " [5.  1.4]]\n"
          ],
          "name": "stdout"
        }
      ]
    },
    {
      "cell_type": "code",
      "metadata": {
        "id": "PcZZQLoTpBJa",
        "colab_type": "code",
        "outputId": "7f0895b0-fcb0-4d0d-f453-9a35565e1bf7",
        "colab": {
          "base_uri": "https://localhost:8080/",
          "height": 283
        }
      },
      "source": [
        "plt.figure(figsize=(4,4))\n",
        "plt.scatter(dataset[:, 0], dataset[:, 1])\n",
        "plt.xlabel('sepal length in cm')\n",
        "plt.ylabel('petal length in cm')\n",
        "plt.show()"
      ],
      "execution_count": 3,
      "outputs": [
        {
          "output_type": "display_data",
          "data": {
            "image/png": "[encoded data removed]",
            "text/plain": [
              "<Figure size 288x288 with 1 Axes>"
            ]
          },
          "metadata": {
            "tags": []
          }
        }
      ]
    },
    {
      "cell_type": "code",
      "metadata": {
        "id": "2c2W0zBBpCop",
        "colab_type": "code",
        "outputId": "b1b35536-7572-4e6f-ed28-27d6c3809bd7",
        "colab": {
          "base_uri": "https://localhost:8080/",
          "height": 280
        }
      },
      "source": [
        "model = Sequential()\n",
        "model.add(Dense(1, input_dim = 1, activation='linear'))\n",
        "\n",
        "model.compile(loss='mse', optimizer = 'rmsprop', metrics=['mse'])\n",
        "model.fit(dataset[:, 0], dataset[:, 1], epochs = 100, verbose = 0)"
      ],
      "execution_count": 4,
      "outputs": [
        {
          "output_type": "stream",
          "text": [
            "WARNING: Logging before flag parsing goes to stderr.\n",
            "W0821 10:09:24.329840 139865382905728 deprecation_wrapper.py:119] From /usr/local/lib/python3.6/dist-packages/keras/backend/tensorflow_backend.py:74: The name tf.get_default_graph is deprecated. Please use tf.compat.v1.get_default_graph instead.\n",
            "\n",
            "W0821 10:09:24.350875 139865382905728 deprecation_wrapper.py:119] From /usr/local/lib/python3.6/dist-packages/keras/backend/tensorflow_backend.py:517: The name tf.placeholder is deprecated. Please use tf.compat.v1.placeholder instead.\n",
            "\n",
            "W0821 10:09:24.354079 139865382905728 deprecation_wrapper.py:119] From /usr/local/lib/python3.6/dist-packages/keras/backend/tensorflow_backend.py:4138: The name tf.random_uniform is deprecated. Please use tf.random.uniform instead.\n",
            "\n",
            "W0821 10:09:24.373804 139865382905728 deprecation_wrapper.py:119] From /usr/local/lib/python3.6/dist-packages/keras/optimizers.py:790: The name tf.train.Optimizer is deprecated. Please use tf.compat.v1.train.Optimizer instead.\n",
            "\n",
            "W0821 10:09:24.499565 139865382905728 deprecation_wrapper.py:119] From /usr/local/lib/python3.6/dist-packages/keras/backend/tensorflow_backend.py:986: The name tf.assign_add is deprecated. Please use tf.compat.v1.assign_add instead.\n",
            "\n",
            "W0821 10:09:24.510298 139865382905728 deprecation_wrapper.py:119] From /usr/local/lib/python3.6/dist-packages/keras/backend/tensorflow_backend.py:973: The name tf.assign is deprecated. Please use tf.compat.v1.assign instead.\n",
            "\n"
          ],
          "name": "stderr"
        },
        {
          "output_type": "execute_result",
          "data": {
            "text/plain": [
              "<keras.callbacks.History at 0x7f34b687c400>"
            ]
          },
          "metadata": {
            "tags": []
          },
          "execution_count": 4
        }
      ]
    },
    {
      "cell_type": "code",
      "metadata": {
        "id": "M1omYwUAprR-",
        "colab_type": "code",
        "outputId": "d50d1d95-71a7-4b38-d367-ea6222addfe5",
        "colab": {
          "base_uri": "https://localhost:8080/",
          "height": 69
        }
      },
      "source": [
        "print('Model weights - w0(slope m), bias):')\n",
        "w0 = model.layers[0].get_weights()[0][0]\n",
        "b0 = model.layers[0].get_weights()[1]\n",
        "print(w0)\n",
        "print(b0)"
      ],
      "execution_count": 5,
      "outputs": [
        {
          "output_type": "stream",
          "text": [
            "Model weights - w0(slope m), bias):\n",
            "[0.8284207]\n",
            "[-0.4895207]\n"
          ],
          "name": "stdout"
        }
      ]
    },
    {
      "cell_type": "code",
      "metadata": {
        "id": "9_BLJERYpDT7",
        "colab_type": "code",
        "outputId": "92c0ebcc-7dc7-461b-83fb-c3f0d05d2d71",
        "colab": {
          "base_uri": "https://localhost:8080/",
          "height": 283
        }
      },
      "source": [
        "plt.figure(figsize=(4,4))\n",
        "plt.scatter(dataset[:, 0], dataset[:, 1])\n",
        "plt.plot(dataset[:, 0], b0 + w0 * dataset[:, 0], '-', color = 'red')\n",
        "plt.xlabel('sepal length in cm')\n",
        "plt.ylabel('sepal width in cm')\n",
        "plt.show()"
      ],
      "execution_count": 6,
      "outputs": [
        {
          "output_type": "display_data",
          "data": {
            "image/png": "[encoded data removed]",
            "text/plain": [
              "<Figure size 288x288 with 1 Axes>"
            ]
          },
          "metadata": {
            "tags": []
          }
        }
      ]
    },
    {
      "cell_type": "code",
      "metadata": {
        "id": "WeqZ0yGXBZQ2",
        "colab_type": "code",
        "colab": {}
      },
      "source": [
        ""
      ],
      "execution_count": 0,
      "outputs": []
    }
  ]
}